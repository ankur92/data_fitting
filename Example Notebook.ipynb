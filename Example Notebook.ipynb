{
 "cells": [
  {
   "cell_type": "markdown",
   "id": "5b59b0eb",
   "metadata": {},
   "source": [
    "# Example notebook to implement curve fitting to extract resonator parameters"
   ]
  },
  {
   "cell_type": "markdown",
   "id": "f830e8b5",
   "metadata": {},
   "source": [
    "When using a network analyser to look at the trasnfer function, save the data in Log magnitude and phase mode"
   ]
  },
  {
   "cell_type": "markdown",
   "id": "30a47b0f",
   "metadata": {},
   "source": [
    "# Fit functions"
   ]
  },
  {
   "cell_type": "code",
   "execution_count": 3,
   "id": "08bd75c6",
   "metadata": {
    "ExecuteTime": {
     "end_time": "2021-11-19T21:16:28.444468Z",
     "start_time": "2021-11-19T21:16:17.041350Z"
    }
   },
   "outputs": [],
   "source": [
    "import numpy as np\n",
    "import matplotlib.pyplot as plt\n",
    "import pandas as pd\n",
    "from scipy.optimize import curve_fit"
   ]
  },
  {
   "cell_type": "code",
   "execution_count": 4,
   "id": "47ecfba4",
   "metadata": {
    "ExecuteTime": {
     "end_time": "2021-11-19T21:20:55.094898Z",
     "start_time": "2021-11-19T21:20:55.003639Z"
    }
   },
   "outputs": [],
   "source": [
    "def s21(f, k1, k2, ki, f0):\n",
    "    ω = 2*np.pi*np.array(f)\n",
    "    ω0 = 2*np.pi*f0\n",
    "    y = 2*np.sqrt(k1/k2)/(k1/k2+1+ki/k2 - 1j*2*(ω-ω0)/k2)\n",
    "    return np.abs(y)\n",
    "\n",
    "def s21_logmag(f, k1, k2, ki, f0):\n",
    "    ω = 2*np.pi*np.array(f)\n",
    "    ω0 = 2*np.pi*f0\n",
    "    y = 2*np.sqrt(k1/k2)/(k1/k2+1+ki/k2 - 1j*2*(ω-ω0)/k2)\n",
    "    return 10*np.log10(np.abs(y)**2)\n",
    "\n",
    "def s21_re_im(f, k1, k2, ki, f0):\n",
    "    ω = 2*np.pi*np.array(f)\n",
    "    ω0 = 2*np.pi*f0\n",
    "    y = 2*np.sqrt(k1/k2)/(k1/k2+1+ki/k2 - 1j*2*(ω-ω0))\n",
    "    return np.real(y), np.imag(y)\n",
    "\n",
    "def s11(f, k1, k2, ki, f0):\n",
    "    ω = 2*np.pi*np.array(f)\n",
    "    ω0 = 2*np.pi*f0\n",
    "    y = (k1/k2-1-ki/k2 + 1j*2*(ω-ω0)/k2)/((k1/k2+1+ki/k2 - 1j*2*(ω-ω0)/k2))\n",
    "    return np.abs(y)\n",
    "\n",
    "def s11_phase(f, k1, k2, ki, f0):\n",
    "    ω = 2*np.pi*np.array(f)\n",
    "    ω0 = 2*np.pi*f0\n",
    "    y = (k1/k2-1-ki/k2 + 1j*2*(ω-ω0)/k2)/((k1/k2+1+ki/k2 - 1j*2*(ω-ω0)/k2))\n",
    "    return np.arctan2(np.imag(y), np.real(y))\n",
    "\n",
    "def s22(f, k1, k2, ki, f0):\n",
    "    ω = 2*np.pi*np.array(f)\n",
    "    ω0 = 2*np.pi*f0\n",
    "    y = (k2-k1-ki + 1j*2*(ω-ω0))/((k2+k1+ki - 1j*2*(ω-ω0)))\n",
    "    return np.abs(y)\n",
    "\n",
    "# def s11_asym(f, k1, k2, ki, f0, phi, A, B):\n",
    "#     y = A*np.exp(1j*B)*(k1-k2*np.exp(-1j*phi)-ki + 1j*2*(f-f0))/((k1+k2*np.exp(-1j*phi)+ki - 1j*2*(f-f0)))\n",
    "#     return np.abs(y)\n",
    "\n",
    "def s11_asym(f, q, qe, f0, phi, A):\n",
    "    y = A*(1- np.exp(1j*phi)*(q/qe)* (2/(1+2*1j*q*(f-f0)/f0))) \n",
    "    return np.abs(y)\n",
    "\n",
    "def s11_re_im(f, k1, k2, ki, f0):\n",
    "    ω = 2*np.pi*np.array(f)\n",
    "    ω0 = 2*np.pi*f0\n",
    "    y = (k1-k2-ki + 1j*2*(f-f0))/((k1+k2+ki - 1j*2*(f-f0)))\n",
    "    return np.real(y), np.imag(y)"
   ]
  },
  {
   "cell_type": "code",
   "execution_count": null,
   "id": "fc613df4",
   "metadata": {},
   "outputs": [],
   "source": []
  }
 ],
 "metadata": {
  "kernelspec": {
   "display_name": "Python 3",
   "language": "python",
   "name": "python3"
  },
  "language_info": {
   "codemirror_mode": {
    "name": "ipython",
    "version": 3
   },
   "file_extension": ".py",
   "mimetype": "text/x-python",
   "name": "python",
   "nbconvert_exporter": "python",
   "pygments_lexer": "ipython3",
   "version": "3.6.5"
  },
  "toc": {
   "base_numbering": 1,
   "nav_menu": {},
   "number_sections": true,
   "sideBar": true,
   "skip_h1_title": false,
   "title_cell": "Table of Contents",
   "title_sidebar": "Contents",
   "toc_cell": false,
   "toc_position": {},
   "toc_section_display": true,
   "toc_window_display": false
  }
 },
 "nbformat": 4,
 "nbformat_minor": 5
}
